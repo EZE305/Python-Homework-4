{
 "cells": [
  {
   "cell_type": "markdown",
   "metadata": {},
   "source": [
    "# Object-Oriented-Programming (OOP)"
   ]
  },
  {
   "cell_type": "markdown",
   "metadata": {},
   "source": [
    "## Tasks Today:\n",
    "\n",
    "   \n",
    "\n",
    "1) <b>Creating a Class (Initializing/Declaring)</b> <br>\n",
    "2) <b>Using a Class (Instantiating)</b> <br>\n",
    " &nbsp;&nbsp;&nbsp;&nbsp; a) Creating One Instance <br>\n",
    " &nbsp;&nbsp;&nbsp;&nbsp; b) Creating Multiple Instances <br>\n",
    " &nbsp;&nbsp;&nbsp;&nbsp; c) In-Class Exercise #1 - Create a Class 'Car' and instantiate three different makes of cars <br>\n",
    "3) <b>The \\__init\\__() Method</b> <br>\n",
    " &nbsp;&nbsp;&nbsp;&nbsp; a) The 'self' Attribute <br>\n",
    "4) <b>Class Attributes</b> <br>\n",
    " &nbsp;&nbsp;&nbsp;&nbsp; a) Initializing Attributes <br>\n",
    " &nbsp;&nbsp;&nbsp;&nbsp; b) Setting an Attribute Outside of the \\__init\\__() Method <br>\n",
    " &nbsp;&nbsp;&nbsp;&nbsp; c) Setting Defaults for Attributes <br>\n",
    " &nbsp;&nbsp;&nbsp;&nbsp; d) Accessing Class Attributes <br>\n",
    " &nbsp;&nbsp;&nbsp;&nbsp; e) Changing Class Attributes <br>\n",
    " &nbsp;&nbsp;&nbsp;&nbsp; f) In-Class Exercise #2 - Add a color and wheels attribute to your 'Car' class <br>\n",
    "5) <b>Class Methods</b> <br>\n",
    " &nbsp;&nbsp;&nbsp;&nbsp; a) Creating <br>\n",
    " &nbsp;&nbsp;&nbsp;&nbsp; b) Calling <br>\n",
    " &nbsp;&nbsp;&nbsp;&nbsp; c) Modifying an Attribute's Value Through a Method <br>\n",
    " &nbsp;&nbsp;&nbsp;&nbsp; d) Incrementing an Attribute's Value Through a Method <br>\n",
    " &nbsp;&nbsp;&nbsp;&nbsp; e) In-Class Exercise #3 - Add a method that prints the cars color and wheel number, then call them <br>\n",
    "6) <b>Inheritance</b> <br>\n",
    " &nbsp;&nbsp;&nbsp;&nbsp; a) Syntax for Inheriting from a Parent Class <br>\n",
    " &nbsp;&nbsp;&nbsp;&nbsp; b) The \\__init\\__() Method for a Child Class (super()) <br>\n",
    " &nbsp;&nbsp;&nbsp;&nbsp; c) Defining Attributes and Methods for the Child Class <br>\n",
    " &nbsp;&nbsp;&nbsp;&nbsp; d) Method Overriding <br>\n",
    " &nbsp;&nbsp;&nbsp;&nbsp; e) In-Class Exercise #4 - Create a class 'Ford' that inherits from 'Car' class and initialize it as a Blue Ford Explorer with 4 wheels using the super() method <br>\n",
    "7) <b>Classes as Attributes</b> <br>\n",
    "8) <b>Exercises</b> <br>\n",
    " &nbsp;&nbsp;&nbsp;&nbsp; a) Exercise #1 - Turn the shopping cart program from yesterday into an object-oriented program <br>"
   ]
  },
  {
   "cell_type": "code",
   "execution_count": null,
   "metadata": {},
   "outputs": [],
   "source": [
    "# from IPython.display import clear_output\n",
    "\n",
    "# cart = []\n",
    "\n",
    "# # Add to cart function\n",
    "# def addItem(item):\n",
    "#     clear_output()\n",
    "#     cart.append(item)\n",
    "    \n",
    "# # Remove From Cart\n",
    "# def removeItem(item):\n",
    "#     clear_output()\n",
    "#     cart.remove(item)\n",
    "    \n",
    "# # Show Cart Function\n",
    "# def showCart():\n",
    "#     clear_output()\n",
    "#     print(\"Here is your cart... \")\n",
    "#     for item in cart:\n",
    "#         print(item)\n",
    "# # Clear Cart\n",
    "# def clearCart():\n",
    "#     clear_output()\n",
    "#     print(\"Your cart is now emtpy... \")\n",
    "#     cart.clear()\n",
    "    \n",
    "# def shoppingCart():\n",
    "#     while True:\n",
    "#         response = input(\"You can: quit / add / remove / show / or clear\")\n",
    "        \n",
    "#         if response.lower() == 'quit':\n",
    "#             print(\"Thanks for shopping here's your cart\")\n",
    "#             showCart()\n",
    "#             break\n",
    "#         elif response.lower() == 'add':\n",
    "#             item = input('What would you like to add?')\n",
    "#             addItem(item)\n",
    "#         elif response.lower() == 'remove':\n",
    "#             showCart()\n",
    "#             item = input('What item do you want to remove?')\n",
    "#             removeItem(item)\n",
    "#         elif response.lower() == 'show':\n",
    "#             showCart()\n",
    "#         elif response.lower() == 'clear':\n",
    "#             clearCart()\n",
    "#         else:\n",
    "#             print(\"Sorry not a valid response - Please choose add/remove/clear/show or quit\")\n",
    "            \n",
    "# shoppingCart()"
   ]
  },
  {
   "cell_type": "code",
   "execution_count": null,
   "metadata": {},
   "outputs": [],
   "source": [
    "# Circumfrance of a cirle\n"
   ]
  },
  {
   "cell_type": "markdown",
   "metadata": {},
   "source": [
    "## Creating a Class (Initializing/Declaring)\n",
    "<p>When creating a class, function, or even a variable you are initializing that object. Initializing and Declaring occur at the same time in Python, whereas in lower level languages you have to declare an object before initializing it. This is the first step in the process of using a class.</p>"
   ]
  },
  {
   "cell_type": "code",
   "execution_count": 16,
   "metadata": {},
   "outputs": [],
   "source": [
    "class Car():\n",
    "    wheels = 4\n",
    "    color = 'Blue'\n",
    "    windshield_wipers = \"wee woo wee\""
   ]
  },
  {
   "cell_type": "markdown",
   "metadata": {},
   "source": [
    "## Using a Class (Instantiating)\n",
    "<p>The process of creating a class is called <i>Instantiating</i>. Each time you create a variable of that type of class, it is referred to as an <i>Instance</i> of that class. This is the second step in the process of using a class.</p>"
   ]
  },
  {
   "cell_type": "markdown",
   "metadata": {},
   "source": [
    "##### Creating One Instance"
   ]
  },
  {
   "cell_type": "code",
   "execution_count": 17,
   "metadata": {},
   "outputs": [
    {
     "name": "stdout",
     "output_type": "stream",
     "text": [
      "4\n",
      "wee woo wee\n"
     ]
    }
   ],
   "source": [
    "ford = Car()\n",
    "honda = Car()\n",
    "porche = Car()\n",
    "\n",
    "print(ford.wheels)\n",
    "print(ford.windshield_wipers)"
   ]
  },
  {
   "cell_type": "markdown",
   "metadata": {},
   "source": [
    "##### Creating Multiple Instances"
   ]
  },
  {
   "cell_type": "code",
   "execution_count": 18,
   "metadata": {},
   "outputs": [
    {
     "data": {
      "text/plain": [
       "'Blue'"
      ]
     },
     "execution_count": 18,
     "metadata": {},
     "output_type": "execute_result"
    }
   ],
   "source": [
    "chevy = Car()\n",
    "honda = Car()\n",
    "porsche = Car()\n",
    "\n",
    "porsche.color"
   ]
  },
  {
   "cell_type": "markdown",
   "metadata": {},
   "source": [
    "##### In-Class Exercise #1 - Create a Class 'Car' and Instantiate three different makes of cars"
   ]
  },
  {
   "cell_type": "code",
   "execution_count": 112,
   "metadata": {},
   "outputs": [
    {
     "name": "stdout",
     "output_type": "stream",
     "text": [
      "Vroom True Bright 4\n"
     ]
    }
   ],
   "source": [
    "class Car():\n",
    "    wheels = 4 \n",
    "    lights = \"Bright\"\n",
    "    engine = \"Vroom\"\n",
    "    cool = \"True\"\n",
    "\n",
    "porche = Car()\n",
    "ferrari = Car()\n",
    "jaguar = Car()\n",
    "\n",
    "print(porche.engine, ferrari.cool, jaguar.lights, jaguar.wheels)"
   ]
  },
  {
   "cell_type": "markdown",
   "metadata": {},
   "source": [
    "## The \\__init\\__() Method <br>\n",
    "<p>This method is used in almost every created class, and called only once upon the creation of the class instance. This method will initialize all variables needed for the object.</p>"
   ]
  },
  {
   "cell_type": "code",
   "execution_count": 135,
   "metadata": {},
   "outputs": [
    {
     "name": "stdout",
     "output_type": "stream",
     "text": [
      "6\n",
      "blue\n",
      "4.7L\n",
      "4\n"
     ]
    }
   ],
   "source": [
    "class Car():\n",
    "#     Glabal Variable within this class, any method inside the class can call upon this variable. \n",
    "    engine = \"4.7L\" \n",
    "    \n",
    "    def __init__(self, color, wheels):\n",
    "        self.color = color\n",
    "        self.wheels = wheels\n",
    "        \n",
    "    \n",
    "mazda = Car(\"black\", 4)\n",
    "subaru = Car(\"blue\", 6)\n",
    "\n",
    "print(subaru.wheels)\n",
    "print(subaru.color)\n",
    "print(subaru.engine)\n",
    "print(mazda.wheels)"
   ]
  },
  {
   "cell_type": "markdown",
   "metadata": {},
   "source": [
    "##### The 'self' Attribute <br>\n",
    "<p>This attribute is required to keep track of specific instance's attributes. Without the self attribute, the program would not know how to reference or keep track of an instance's attributes.</p>"
   ]
  },
  {
   "cell_type": "code",
   "execution_count": 33,
   "metadata": {},
   "outputs": [
    {
     "data": {
      "text/plain": [
       "'you go climber'"
      ]
     },
     "execution_count": 33,
     "metadata": {},
     "output_type": "execute_result"
    }
   ],
   "source": [
    "# see above\n",
    "\n",
    "class House():\n",
    "    def __init__(self, dishes, wall):\n",
    "        self.wall= wall\n",
    "        self.dishes = dishes\n",
    "        \n",
    "    def washDishes(self):\n",
    "        if self.dishes.lower() == \"dirty\":\n",
    "            return \"clean\"\n",
    "    \n",
    "    def rockClimbingWall(self, wall):\n",
    "        if self.wall.lower() == \"yes\":\n",
    "            return \"you go climber\"\n",
    "        else:\n",
    "            return \"why dont you wanna climb?\"\n",
    "ezHouse = House(\"dirty\", \"yes\")\n",
    "\n",
    "ezHouse.washDishes()\n",
    "ezHouse.rockClimbingWall(\"yes\")"
   ]
  },
  {
   "cell_type": "markdown",
   "metadata": {},
   "source": [
    "## Class Attributes <br>\n",
    "<p>While variables are inside of a class, they are referred to as attributes and not variables. When someone says 'attribute' you know they're speaking about a class. Attributes can be initialized through the init method, or outside of it.</p>"
   ]
  },
  {
   "cell_type": "markdown",
   "metadata": {},
   "source": [
    "##### Initializing Attributes"
   ]
  },
  {
   "cell_type": "code",
   "execution_count": 21,
   "metadata": {},
   "outputs": [],
   "source": [
    "class Toy():\n",
    "    kind = \"car\" #This is a constant\n",
    "    \n",
    "    def __init__ (self, rooftop, horn, wheels):\n",
    "        self.rooftop = rooftop #these are the attributes\n",
    "        self.horn = horn\n",
    "        self.wheels = wheels\n",
    "        \n",
    "tonka_truck = Toy (1, 1, 4) # 1rooftop, 1 horn, 4 wheels\n",
    "hotwheels_car = Toy (3, 3, 6,) #3 rooftop, 3 horn , 6 wheels"
   ]
  },
  {
   "cell_type": "markdown",
   "metadata": {},
   "source": [
    "##### Accessing Class Attributes"
   ]
  },
  {
   "cell_type": "code",
   "execution_count": 15,
   "metadata": {
    "scrolled": true
   },
   "outputs": [
    {
     "name": "stdout",
     "output_type": "stream",
     "text": [
      "2\n",
      "2\n"
     ]
    }
   ],
   "source": [
    "# See Above\n",
    "tonka_truck.rooftop\n",
    "hotwheels_car.wheels"
   ]
  },
  {
   "cell_type": "markdown",
   "metadata": {},
   "source": [
    "##### Setting Defaults for Attributes"
   ]
  },
  {
   "cell_type": "code",
   "execution_count": 114,
   "metadata": {},
   "outputs": [
    {
     "data": {
      "text/plain": [
       "<__main__.Car at 0x1100895e0>"
      ]
     },
     "execution_count": 114,
     "metadata": {},
     "output_type": "execute_result"
    }
   ],
   "source": [
    " class Car():\n",
    "        engine = \"4.7L\"\n",
    "        \n",
    "        def __init__ (self, wheels):\n",
    "            self.wheels = wheels\n",
    "            self.color = \"Blue\"\n",
    "\n",
    "honda = Car(4)\n",
    "honda.color\n",
    "honda.engine\n",
    "\n",
    "\n",
    "\n",
    "\n",
    "\n",
    "\n",
    "# class Human():\n",
    "    \n",
    "#     def __init__(self,walking,height,weight,talk = True, eyes=\"brown\"):\n",
    "#         self.walking = walking\n",
    "#         self.height = height\n",
    "#         self.weight = weight\n",
    "#         self.talk = talk\n",
    "#         self.eyes = eyes\n",
    "        \n",
    "# weight = input('How much do you weigh?')\n",
    "\n",
    "# joel = Human(True,\"6ft 1in\", weight)\n",
    "# print(joel.talk)"
   ]
  },
  {
   "cell_type": "markdown",
   "metadata": {},
   "source": [
    "##### Changing Class Attributes <br>\n",
    "<p>Keep in mind there are global class attributes and then there are attributes only available to each class instance which won't effect other classes.</p>"
   ]
  },
  {
   "cell_type": "code",
   "execution_count": 117,
   "metadata": {},
   "outputs": [
    {
     "name": "stdout",
     "output_type": "stream",
     "text": [
      "Before change: Blue\n",
      "\n",
      "After Change: White\n"
     ]
    }
   ],
   "source": [
    "jeep = Car(8)\n",
    "\n",
    "print(f'Before change: {jeep.color}')\n",
    "      \n",
    "jeep.color = \"White\"\n",
    "      \n",
    "print(f'\\nAfter Change: {jeep.color}')"
   ]
  },
  {
   "cell_type": "code",
   "execution_count": 18,
   "metadata": {
    "scrolled": true
   },
   "outputs": [
    {
     "name": "stdout",
     "output_type": "stream",
     "text": [
      "200\n",
      "After The Change:  210lb\n"
     ]
    }
   ],
   "source": [
    "print(joel.weight)\n",
    "joel.weight = \"210lb\"\n",
    "\n",
    "print(\"After The Change: \", joel.weight)"
   ]
  },
  {
   "cell_type": "markdown",
   "metadata": {},
   "source": [
    "##### In-Class Exercise #2 - Add a doors and seats attribute to your 'Car' class then print out two different instances with different doors and seats"
   ]
  },
  {
   "cell_type": "code",
   "execution_count": 34,
   "metadata": {},
   "outputs": [
    {
     "name": "stdout",
     "output_type": "stream",
     "text": [
      "BMW Seats:  5 and BMW Doors 4\n"
     ]
    }
   ],
   "source": [
    "# class Car():\n",
    "#     doors = 4\n",
    "#     seats = 5\n",
    "#     def __init__ (self,doors,seats):\n",
    "#         self.doors = doors\n",
    "#         self.seats = seats\n",
    "        \n",
    "# chevy = Car(5, 6)\n",
    "# tesla = Car(6, 7)\n",
    "\n",
    "# print(chevy.doors, chevy.seats)\n",
    "# print(tesla.doors, tesla.seats)\n",
    "\n",
    "\n",
    "class Car():\n",
    "    def __init__ (self, doors, seats):\n",
    "        self.doors = doors\n",
    "        self.seats = seats\n",
    "        \n",
    "bmw = Car (4, 5)\n",
    "mercedes = (5, 6)\n",
    "\n",
    "print(f\"BMW Seats: {bmw.seats} and BMW Doors {bmw.doors}\")\n",
    "print(f\"Mercedes Seats: {Mercedes.seats} and Mercedes Doors {mercedes.doors}\")\n",
    "\n"
   ]
  },
  {
   "cell_type": "markdown",
   "metadata": {},
   "source": [
    "## Class Methods <br>\n",
    "<p>While inside of a class, functions are referred to as 'methods'. If you hear someone mention methods, they're speaking about classes. Methods are essentially functions, but only callable on the instances of a class.</p>"
   ]
  },
  {
   "cell_type": "markdown",
   "metadata": {},
   "source": [
    "##### Creating"
   ]
  },
  {
   "cell_type": "code",
   "execution_count": 69,
   "metadata": {},
   "outputs": [],
   "source": [
    "# class ShoppingBag():\n",
    "#     def __init__(self,handles,capacity,items):\n",
    "#         self.handles = handles\n",
    "#         self.capacity = capacity\n",
    "#         self.items = items\n",
    "        \n",
    "#     \"\"\"\n",
    "#         ShoppingBag will require 3 positional arguments:\n",
    "#         handles: which expects to be an integer\n",
    "#         capacity: which is expected to be an integer\n",
    "#         items: which is expected to be a list - List CAN be empty\n",
    "#     \"\"\"\n",
    "\n",
    "#     # Method to show ShoppingBag\n",
    "#     def showShoppingBag(self):\n",
    "#         print(\"You have items in your bag!\")\n",
    "#         for item in self.items:\n",
    "#             print(item)\n",
    "\n",
    "#     # Method to show the capacity of the bag\n",
    "#     def showCapacity(self):\n",
    "#         print(f\"Your Capacity is {self.capacity}\")\n",
    "\n",
    "#     # Method to add to the ShoppingBag\n",
    "#     def addToShoppingBag(self):\n",
    "#         product = input(\"What would you like to add? \")\n",
    "#         self.items.append(product)\n",
    "\n",
    "#     # Method to change current capacity\n",
    "#     def changeBagCapacity(self,capacity):\n",
    "#         \"\"\"\n",
    "#             changeBagCapacity assumes capacity will be an integer\n",
    "#         \"\"\"\n",
    "#         self.capacity = capacity\n",
    "\n",
    "#     # Method to Auto Increase Capacity\n",
    "#     def autoIncreaseCapacity(self):\n",
    "#         if self.capacity == isinstance(self.capacity, str):\n",
    "#             print(\"Hey can't do that here buddy...\")\n",
    "#         else:\n",
    "#             self.capacity += 10\n",
    "                \n",
    "# def run():\n",
    "#     whole_food_bag = ShoppingBag(2,10,[])\n",
    "#     while True:\n",
    "#         response = input(\"What do you want to do - Add/Show or Quit?\")\n",
    "#         if response.lower() == 'add':\n",
    "#             whole_food_bag.addToShoppingBag()\n",
    "#         if response.lower() == 'show':\n",
    "#             whole_food_bag.showShoppingBag()\n",
    "#         if response.lower() == 'quit':\n",
    "#             print('Here is your bag...')\n",
    "#             whole_food_bag.showShoppingBag()\n",
    "#             break\n",
    "# run()\n",
    "\n",
    "class ShoppingBag():\n",
    "\n",
    "    \"\"\"\n",
    "    ShoppingBag Class will have handles, capacity\n",
    "    and items to place inside. \n",
    "\n",
    "    Attributes for the class:\n",
    "    -handles(Should be integer)\n",
    "    -capacity (String or integer)\n",
    "    -items :Expected to be a list\n",
    "    \"\"\"\n",
    "\n",
    "    def __init__(self, handles, capacity, items):\n",
    "        self.handles = handles\n",
    "        self.capacity = capacity\n",
    "        self.items = items\n",
    "        \n",
    "#     write a method that shows items in our ShoppingBag this is our items list\n",
    "\n",
    "    def showShoppingBag(self):\n",
    "        print(\"You have items in your bag\")\n",
    "        for item in self.items:\n",
    "            print (item)\n",
    "            \n",
    "#     Show capacity of each shopping bag\n",
    "\n",
    "    def showCapacity(self):\n",
    "        print (f\"Your capacity is : {self.capacity}\")\n",
    "        \n",
    "        \n",
    "#     Add items to item(s) to item list in the ShoppingBag(class)\n",
    "\n",
    "    def addShoppingBag(self):\n",
    "        products = input(\"What you wanna add? \")\n",
    "        self.items.append(products)\n",
    "        \n",
    "#         Change capacity of the ShoppingBag\n",
    "\n",
    "    def changeBagCapacity(self, capacity):\n",
    "        self.capacity = capacity\n",
    "        \n",
    "#          inxease the Capacity of the ShoppingBag by a default amount that we set to 10\n",
    "\n",
    "    def increaseCapacity(self, changed_capacity = 10):\n",
    "        if self.capacity == isinstance (self.capacity, str):\n",
    "            print (\"We can't add that here\")\n",
    "        else:\n",
    "            self.capacity += changed_capacity\n",
    "\n",
    "\n",
    "\n"
   ]
  },
  {
   "cell_type": "markdown",
   "metadata": {},
   "source": [
    "##### Calling"
   ]
  },
  {
   "cell_type": "code",
   "execution_count": 70,
   "metadata": {},
   "outputs": [
    {
     "name": "stdout",
     "output_type": "stream",
     "text": [
      "Whadoyawannado? add/show/quitadd\n",
      "What you wanna add? burger\n",
      "Whadoyawannado? add/show/quitquit\n",
      "You have items in your bag\n",
      "burger\n",
      "Thanks for shopping!\n"
     ]
    }
   ],
   "source": [
    "# See Above\n",
    "# Created the idea of the ShoppingBag\n",
    "# now we will actually instantiate and Make one, and use it\n",
    "\n",
    "wholeFoods_bag = ShoppingBag (2, 10, [])\n",
    "\n",
    "#Create a function to run the ShoppingBag Methods on our wholeFoods_bag instance\n",
    "\n",
    "def run():\n",
    "    while True:\n",
    "        response = input (\"Whadoyawannado? add/show/quit\")\n",
    "        \n",
    "        if response.lower() == \"quit\":\n",
    "            wholeFoods_bag.showShoppingBag()\n",
    "            print(\"Thanks for shopping!\")\n",
    "            break\n",
    "            \n",
    "        elif response.lower() == \"add\":\n",
    "            wholeFoods_bag.addShoppingBag()\n",
    "                \n",
    "        elif response.lower() == \"show\":\n",
    "                wholeFoods_bag.showShoppingBag()\n",
    "            \n",
    "        else:\n",
    "            print(\"IDK what you're saying maaan. \")\n",
    "\n",
    "run()\n",
    "        \n",
    "        \n",
    "\n"
   ]
  },
  {
   "cell_type": "markdown",
   "metadata": {},
   "source": [
    "##### Modifying an Attribute's Value Through a Method"
   ]
  },
  {
   "cell_type": "code",
   "execution_count": 131,
   "metadata": {},
   "outputs": [
    {
     "name": "stdout",
     "output_type": "stream",
     "text": [
      "Your capacity is : 40\n",
      "Capacity After the change... \n",
      "None\n"
     ]
    }
   ],
   "source": [
    "# Show the capacity \n",
    "wholeFoods_bag.showCapacity()\n",
    "print(\"Capacity After the change... \")\n",
    "print(wholeFoods_bag.changeBagCapacity(40))\n"
   ]
  },
  {
   "cell_type": "markdown",
   "metadata": {},
   "source": [
    "##### Incrementing an Attribute's Value Through a Method"
   ]
  },
  {
   "cell_type": "code",
   "execution_count": 50,
   "metadata": {},
   "outputs": [
    {
     "name": "stdout",
     "output_type": "stream",
     "text": [
      "Your capacity is : 40\n",
      "After Increase: \n",
      "Your capacity is : 50\n"
     ]
    }
   ],
   "source": [
    "wholeFoods_bag.showCapacity()\n",
    "print(\"After Increase: \")\n",
    "wholeFoods_bag.increaseCapacity()\n",
    "wholeFoods_bag.showCapacity()"
   ]
  },
  {
   "cell_type": "markdown",
   "metadata": {},
   "source": [
    "##### In-Class Exercise #3 - Add a method that takes in three parameters of year, doors and seats and prints out a formatted print statement with make, model, year, seats, and doors"
   ]
  },
  {
   "cell_type": "code",
   "execution_count": 56,
   "metadata": {},
   "outputs": [
    {
     "name": "stdout",
     "output_type": "stream",
     "text": [
      "What year is your car? 2020\n",
      "How many doors does your car have?4\n",
      " How many seats does your car have? 5\n",
      "This car is from 2020 and is a Cadillac XT4 and has 4 doors and 5 seats\n"
     ]
    }
   ],
   "source": [
    "# define class Car\n",
    "\n",
    "class Car():\n",
    "#     Create two parameters inside __init__ that are make and model\n",
    "    def __init__ (self, make, model):\n",
    "        self.make = make\n",
    "        self.model = model\n",
    "        \n",
    "# create method that has 4 parameters in total (self, year, door, seats)\n",
    "        \n",
    "    def showCar(self, year, doors, seats):\n",
    "        self.year = year\n",
    "        self.doors = doors\n",
    "        self.seats = seats\n",
    "        print(f\"Your {year}, {self.make} {self.model} has {doors} doors and {seats} seats\")\n",
    "        \n",
    "year = input(f\"What year is your car? \")\n",
    "doors = input (f\"How many doors does your car have?\")\n",
    "seats = input (f\" How many seats does your car have? \")\n",
    "\n",
    "cadillac = Car(\"Cadillac\", \"XT4\")\n",
    "cadillac.showCar(year, doors, seats)    \n",
    "    \n",
    "\n"
   ]
  },
  {
   "cell_type": "markdown",
   "metadata": {},
   "source": [
    "## Inheritance <br>\n",
    "<p>You can create a child-parent relationship between two classes by using inheritance. What this allows you to do is have overriding methods, but also inherit traits from the parent class. Think of it as an actual parent and child, the child will inherit the parent's genes, as will the classes in OOP</p>"
   ]
  },
  {
   "cell_type": "markdown",
   "metadata": {},
   "source": [
    "##### Syntax for Inheriting from a Parent Class"
   ]
  },
  {
   "cell_type": "code",
   "execution_count": 82,
   "metadata": {},
   "outputs": [
    {
     "name": "stdout",
     "output_type": "stream",
     "text": [
      "bark\n",
      "Make some generic sound\n",
      "None\n",
      "9.8\n",
      "Generic animal name\n"
     ]
    }
   ],
   "source": [
    "# Create a Parent class called animal\n",
    "\n",
    "class Animal():\n",
    "    acceleration = 9.8\n",
    "    \n",
    "    \n",
    "    def __init__(self, name, species, legs = 4):\n",
    "        self.name = name\n",
    "        self.species = species\n",
    "        self.legs = legs \n",
    "        \n",
    "# generic parent method - this is not overriding anything\n",
    "\n",
    "    def makeSound(self):\n",
    "        print(\"Make some generic sound\")\n",
    "        \n",
    "# now we make our child class...\n",
    "\n",
    "class Dog(Animal):\n",
    "    speed = 15\n",
    "    \n",
    "    def printInfo(self):\n",
    "        print(f\"The dog has {self.speed}mph in speed and {self.acceleration} \")\n",
    "        \n",
    "# grandchild class Mutt\n",
    "\n",
    "class Mutt(Dog):\n",
    "    color : \"Tan\"\n",
    "        \n",
    "        \n",
    "# Override the animal class - using the Dog class to overwrite the __init__1 from Animal\n",
    "\n",
    "    def __init__ (self, name, species, eye_color, legs = 4):\n",
    "        Dog.__init__(self, name, species, legs)\n",
    "        self.eye_color = eye_color\n",
    "    \n",
    "#     Override the makesound method(Which is coming from Animal)\n",
    "    def makeSound (self):\n",
    "        noise = \"bark\"\n",
    "        return noise\n",
    "    \n",
    "lassie = Dog(\"Lassie\", \"Dog\")\n",
    "basic_animal = Animal (\"Generic animal name\", \"Generic Animal Species\")\n",
    "buster = Mutt (\"Buster\", \"Mutt\", \"Brown\")\n",
    "rover = Dog\n",
    "\n",
    "# print(self.rover.printInfo())\n",
    "print(buster.makeSound())\n",
    "print(lassie.makeSound())\n",
    "print(buster.acceleration)\n",
    "print(basic_animal.name)"
   ]
  },
  {
   "cell_type": "markdown",
   "metadata": {},
   "source": [
    "##### The \\__init\\__() Method for a Child Class - super()"
   ]
  },
  {
   "cell_type": "code",
   "execution_count": 65,
   "metadata": {
    "scrolled": true
   },
   "outputs": [
    {
     "name": "stdout",
     "output_type": "stream",
     "text": [
      "bark\n",
      "Make some generic sound\n",
      "None\n",
      "9.8\n",
      "Generic animal name\n"
     ]
    }
   ],
   "source": [
    "# class Bird(Cat,Animal):\n",
    "#     speed = \"25mph\"\n",
    "    \n",
    "#     def __init__(self,name,species,color,legs = 4):\n",
    "#         super().__init__(name,species,legs)\n",
    "#         self.color = color\n",
    "        \n",
    "#     def printInfo(self):\n",
    "#         print(f\"This Bird is {self.color} and has {self.eye_color}\")\n",
    "\n",
    "# # help(Bird)\n",
    "# polly = Bird(\"polly\",\"Bird\",\"Red\")\n",
    "# polly.printInfo()\n",
    "\n",
    "\n",
    "class Puppy(Dog):\n",
    "    color = \"black and brown\"\n",
    "    \n",
    "# override the Animal Class __init__ (Via dog class)\n",
    "\n",
    "def __init__(self, name, species, eye_Color, legs = 4):\n",
    "    super().__init__(name, species, legs)\n",
    "    self.eye_color = eye_color\n",
    "    \n",
    "# Override the makeSound meethod\n",
    "\n",
    "def makeSound(self):\n",
    "    noise = \"Bark\"\n",
    "    return noise\n",
    "\n",
    "print(buster.makeSound())\n",
    "print(lassie.makeSound())\n",
    "print(buster.acceleration)\n",
    "print(basic_animal.name)"
   ]
  },
  {
   "cell_type": "markdown",
   "metadata": {},
   "source": [
    "### Multiple Inheritence"
   ]
  },
  {
   "cell_type": "code",
   "execution_count": 101,
   "metadata": {},
   "outputs": [
    {
     "ename": "NameError",
     "evalue": "name 'Cat' is not defined",
     "output_type": "error",
     "traceback": [
      "\u001b[0;31m---------------------------------------------------------------------------\u001b[0m",
      "\u001b[0;31mNameError\u001b[0m                                 Traceback (most recent call last)",
      "Input \u001b[0;32mIn [101]\u001b[0m, in \u001b[0;36m<cell line: 1>\u001b[0;34m()\u001b[0m\n\u001b[0;32m----> 1\u001b[0m \u001b[38;5;28;01mclass\u001b[39;00m \u001b[38;5;21;01mBird\u001b[39;00m(\u001b[43mCat\u001b[49m,Animal):\n\u001b[1;32m      2\u001b[0m     speed \u001b[38;5;241m=\u001b[39m \u001b[38;5;124m\"\u001b[39m\u001b[38;5;124m25mph\u001b[39m\u001b[38;5;124m\"\u001b[39m\n\u001b[1;32m      4\u001b[0m     \u001b[38;5;28;01mdef\u001b[39;00m \u001b[38;5;21m__init__\u001b[39m(\u001b[38;5;28mself\u001b[39m,name,species,color,legs \u001b[38;5;241m=\u001b[39m \u001b[38;5;241m4\u001b[39m):\n",
      "\u001b[0;31mNameError\u001b[0m: name 'Cat' is not defined"
     ]
    }
   ],
   "source": [
    "class Bird(Cat,Animal):\n",
    "    speed = \"25mph\"\n",
    "    \n",
    "    def __init__(self,name,species,color,legs = 4):\n",
    "        super().__init__(name,species,color,legs)\n",
    "        self.color = color\n",
    "        \n",
    "    def printInfo(self):\n",
    "        print(f\"This Bird is {self.color}\")\n",
    "\n",
    "help(Bird)\n",
    "polly = Bird(\"polly\",\"Bird\",\"Red\")\n",
    "polly.printInfo()"
   ]
  },
  {
   "cell_type": "markdown",
   "metadata": {},
   "source": [
    "##### Defining Attributes and Methods for the Child Class"
   ]
  },
  {
   "cell_type": "code",
   "execution_count": null,
   "metadata": {},
   "outputs": [],
   "source": [
    "# See Above"
   ]
  },
  {
   "cell_type": "markdown",
   "metadata": {},
   "source": [
    "##### Method Overriding"
   ]
  },
  {
   "cell_type": "code",
   "execution_count": null,
   "metadata": {},
   "outputs": [],
   "source": [
    "# See Above"
   ]
  },
  {
   "cell_type": "markdown",
   "metadata": {},
   "source": [
    "## Classes as Attributes <br>\n",
    "<p>Classes can also be used as attributes within another class. This is useful in situations where you need to keep variables locally stored, instead of globally stored.</p>"
   ]
  },
  {
   "cell_type": "code",
   "execution_count": 134,
   "metadata": {},
   "outputs": [
    {
     "ename": "AttributeError",
     "evalue": "'Car' object has no attribute 'volts'",
     "output_type": "error",
     "traceback": [
      "\u001b[0;31m---------------------------------------------------------------------------\u001b[0m",
      "\u001b[0;31mAttributeError\u001b[0m                            Traceback (most recent call last)",
      "Input \u001b[0;32mIn [134]\u001b[0m, in \u001b[0;36m<cell line: 45>\u001b[0;34m()\u001b[0m\n\u001b[1;32m     41\u001b[0m my_battery \u001b[38;5;241m=\u001b[39m Battery(\u001b[38;5;241m20\u001b[39m)\n\u001b[1;32m     43\u001b[0m tesla \u001b[38;5;241m=\u001b[39m Car(\u001b[38;5;241m2019\u001b[39m, \u001b[38;5;124m\"\u001b[39m\u001b[38;5;124mTesla\u001b[39m\u001b[38;5;124m\"\u001b[39m, \u001b[38;5;124m\"\u001b[39m\u001b[38;5;124mModel X\u001b[39m\u001b[38;5;124m\"\u001b[39m, my_battery)\n\u001b[0;32m---> 45\u001b[0m \u001b[38;5;28mprint\u001b[39m(\u001b[43mtesla\u001b[49m\u001b[38;5;241;43m.\u001b[39;49m\u001b[43mvolts\u001b[49m)\n\u001b[1;32m     46\u001b[0m \u001b[38;5;28mprint\u001b[39m(tesla\u001b[38;5;241m.\u001b[39mbattery\u001b[38;5;241m.\u001b[39mcells)\n\u001b[1;32m     47\u001b[0m \u001b[38;5;28mprint\u001b[39m(tesla\u001b[38;5;241m.\u001b[39mprintInfo())\n",
      "\u001b[0;31mAttributeError\u001b[0m: 'Car' object has no attribute 'volts'"
     ]
    }
   ],
   "source": [
    "# class Battery():\n",
    "#     volts = 7.8\n",
    "    \n",
    "#     def __init__(self,cells):\n",
    "#         self.cells = cells\n",
    "        \n",
    "# class Car():\n",
    "#     def __init__(self,year,make,model,battery):\n",
    "#         self.year = year\n",
    "#         self.make = make\n",
    "#         self.model = model\n",
    "#         self.battery = battery\n",
    "        \n",
    "#     def printInfo(self):\n",
    "#         print(self.year,self.make,self.battery.volts, f\"Battery Cells: {self.battery.cells}\")\n",
    "        \n",
    "# battery = Battery(20)\n",
    "\n",
    "# tesla = Car(2020,\"Tesla\",\"Model X\", battery)\n",
    "\n",
    "# tesla.printInfo()\n",
    "# print(tesla.printInfo())\n",
    "\n",
    "\n",
    "class Battery():\n",
    "    volts = 7.8\n",
    "    \n",
    "    def __init__(self, cells):\n",
    "        self.cells = cells\n",
    "\n",
    "class Car():\n",
    "    def __init__(self, year, make, model, battery):\n",
    "        self.year = year\n",
    "        self.make = make\n",
    "        self.model = model\n",
    "        self.battery = battery\n",
    "    \n",
    "    def printInfo(self):\n",
    "        return f'{self.year} {self.make} {self.model} {self.battery.cells}'\n",
    "        \n",
    "my_battery = Battery(20)\n",
    "\n",
    "tesla = Car(2019, \"Tesla\", \"Model X\", my_battery)\n",
    "\n",
    "print(tesla.volts)\n",
    "print(tesla.battery.cells)\n",
    "print(tesla.printInfo())\n",
    "\n",
    "            \n",
    "        \n"
   ]
  },
  {
   "cell_type": "markdown",
   "metadata": {},
   "source": [
    "# Exercises"
   ]
  },
  {
   "cell_type": "markdown",
   "metadata": {},
   "source": [
    "### Exercise 1 - Turn the shopping cart program from yesterday into an object-oriented program\n",
    "\n",
    "The comments in the cell below are there as a guide for thinking about the problem. However, if you feel a different way is best for you and your own thought process, please do what feels best for you by all means."
   ]
  },
  {
   "cell_type": "code",
   "execution_count": 75,
   "metadata": {},
   "outputs": [
    {
     "name": "stdout",
     "output_type": "stream",
     "text": [
      "Welcome to your Shopping Cart.\n",
      "Whadoyawannado? add/remove/show/quitadd\n",
      "What would you like to add? banana\n",
      "Whadoyawannado? add/remove/show/quitremove\n",
      "Here's what you got. \n",
      "banana\n",
      "What would you like to remove? banana\n",
      "Whadoyawannado? add/remove/show/quitshow\n",
      "Here's what you got. \n",
      "Whadoyawannado? add/remove/show/quitadd\n",
      "What would you like to add? Sponge\n",
      "Whadoyawannado? add/remove/show/quitadd\n",
      "What would you like to add? Eggplant\n",
      "Whadoyawannado? add/remove/show/quitFun\n",
      "Please try actual input!  \n",
      "Whadoyawannado? add/remove/show/quitHehe\n",
      "Please try actual input!  \n",
      "Whadoyawannado? add/remove/show/quitadd\n",
      "What would you like to add? Fun\n",
      "Whadoyawannado? add/remove/show/quitAdd\n",
      "What would you like to add? Eggplant\n",
      "Whadoyawannado? add/remove/show/quitshow\n",
      "Here's what you got. \n",
      "Sponge\n",
      "Eggplant\n",
      "Fun\n",
      "Eggplant\n",
      "Whadoyawannado? add/remove/show/quitshow\n",
      "Here's what you got. \n",
      "Sponge\n",
      "Eggplant\n",
      "Fun\n",
      "Eggplant\n",
      "Whadoyawannado? add/remove/show/quitquit\n",
      "Here's what you got. \n",
      "Sponge\n",
      "Eggplant\n",
      "Fun\n",
      "Eggplant\n",
      "Thanks for shopping!\n"
     ]
    }
   ],
   "source": [
    "# Create a class called cart that retains items and has methods to add, remove, and show\n",
    "\n",
    "print(\"Welcome to your Shopping Cart.\")\n",
    "\n",
    "class Cart():\n",
    "    pass\n",
    "    \n",
    "    def __init__(self, add, remove, show):\n",
    "        self.add = add\n",
    "        self.remove = remove\n",
    "        self.show = show\n",
    "        \n",
    "    def addItem(self):\n",
    "        addIng = input(\"What would you like to add? \")\n",
    "        self.show.append(addIng)\n",
    "    \n",
    "    def showBag(self):\n",
    "        print(\"Here's what you got. \")\n",
    "        for item in self.show:\n",
    "            print (item)\n",
    "            \n",
    "    def removeItem(self):\n",
    "        remIng = input (\"What would you like to remove? \")\n",
    "        self.show.remove(remIng)\n",
    "\n",
    "yourCart = Cart([],[],[])       \n",
    "        \n",
    "def run():\n",
    "    while True:\n",
    "        response = input (\"Whadoyawannado? add/remove/show/quit\")\n",
    "        \n",
    "        if response.lower() == \"quit\":\n",
    "            yourCart.showBag()\n",
    "            print(\"Thanks for shopping!\")\n",
    "            break\n",
    "            \n",
    "        elif response.lower() == \"add\":\n",
    "            yourCart.addItem()\n",
    "            \n",
    "        elif response.lower() == \"remove\":\n",
    "            yourCart.showBag()\n",
    "            yourCart.removeItem()\n",
    "                \n",
    "        elif response.lower() == \"show\":\n",
    "            yourCart.showBag()\n",
    "            \n",
    "        else:\n",
    "            print(\"Please try actual input!  \")\n",
    "\n",
    "run()\n",
    "        \n",
    "        \n",
    "\n",
    "    "
   ]
  },
  {
   "cell_type": "markdown",
   "metadata": {},
   "source": [
    "### Exercise 2 - Create a class 'Ford' that inherits from 'Car' class and initialize it as a Blue Ford Explorer with 4 wheels using the super() method, add a method to car which prints 'this is a car' and create an overriding method in class Ford that prints the information on the car"
   ]
  },
  {
   "cell_type": "code",
   "execution_count": 129,
   "metadata": {},
   "outputs": [
    {
     "name": "stdout",
     "output_type": "stream",
     "text": [
      "This is a Car\n",
      "Blue, Ford Explorer with 4 wheels\n"
     ]
    }
   ],
   "source": [
    "# Create Parent Class called Car - That will be inherited by child Class called Ford\n",
    "# Add a method to the Car class that prints \"This is a car\"\n",
    "# Inside of the Child Class initialize the the inherited info using super()\n",
    "# Override the above method with the information of the Ford Car\n",
    "\n",
    "class Car():\n",
    "    wheels = 4\n",
    "    \n",
    "    def __init__ (self, color, make, model, wheels):\n",
    "        self.color = color\n",
    "        self.make = make\n",
    "        self.model = model\n",
    "        self.wheels = wheels\n",
    "        \n",
    "        print(\"This is a Car\")\n",
    "        \n",
    "\n",
    "\n",
    "class Ford(Car):\n",
    "    def __init__(self, color, make, model, wheels):\n",
    "        super().__init__(color, make, model, wheels)\n",
    "        print(f'{color}, {make} {model} with {wheels} wheels' )\n",
    "\n",
    "        \n",
    "def start(Ford):\n",
    "    def __init__(self, color, make, model):\n",
    "        super().__init__(color, make, model)\n",
    "        \n",
    "\n",
    "        \n",
    "    \n",
    "fordExplorer = Ford('Blue', 'Ford', 'Explorer', '4' )\n",
    "\n",
    "start(fordExplorer)\n",
    "\n",
    "\n",
    "    \n",
    "    "
   ]
  },
  {
   "cell_type": "code",
   "execution_count": null,
   "metadata": {},
   "outputs": [],
   "source": []
  }
 ],
 "metadata": {
  "kernelspec": {
   "display_name": "Python 3 (ipykernel)",
   "language": "python",
   "name": "python3"
  },
  "language_info": {
   "codemirror_mode": {
    "name": "ipython",
    "version": 3
   },
   "file_extension": ".py",
   "mimetype": "text/x-python",
   "name": "python",
   "nbconvert_exporter": "python",
   "pygments_lexer": "ipython3",
   "version": "3.9.12"
  }
 },
 "nbformat": 4,
 "nbformat_minor": 2
}
